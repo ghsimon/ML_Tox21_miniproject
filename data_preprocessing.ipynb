{
 "cells": [
  {
   "cell_type": "markdown",
   "metadata": {},
   "source": [
    "The **Tox21 data set** comprises of a large number of toxicity measurements for 12 biological targets across a wide range of chemical compounds. For each target, qualitative toxicity assessments are provided, categorizing chemical compounds as either non-toxic (label 0) or toxic (label 1).\n",
    "\n",
    "The dataset can therefore be considered a collection of twelve parallel datasets, each corresponding to a biological target. For each target, models can be constructed aiming to predict the toxicity (categorical label) of a chemical compound based on its molecular descriptors.\n",
    "\n",
    "In this notebook, toxicity data for the Nuclear Receptor: Androgen Receptor (NR-AR) is investigated and processed for later model building. The androgen receptor is a protein that is activated by binding an androgenic harmone (such as testosterone) in the cytoplasm of the cell and subsequently translocates to the nucleus, where it binds DNA as a transcription factor to regulate gene expression. "
   ]
  },
  {
   "cell_type": "code",
   "execution_count": 1,
   "metadata": {},
   "outputs": [
    {
     "name": "stdout",
     "output_type": "stream",
     "text": [
      "Downloading the dataset...\n",
      "Finished\n",
      "\n",
      "The total amount of compounds for which labels are available is 7265\n"
     ]
    }
   ],
   "source": [
    "# Import libraries\n",
    "import pandas as pd\n",
    "from rdkit.Chem import Descriptors, PandasTools\n",
    "import matplotlib.pyplot as plt\n",
    "import numpy as np\n",
    "from sklearn import model_selection\n",
    "import pickle\n",
    "\n",
    "# display 3 significant digits when printing pandas dataframes\n",
    "pd.options.display.precision = 3\n",
    "\n",
    "# path to file\n",
    "print('Downloading the dataset...')\n",
    "filepath = \"https://deepchemdata.s3-us-west-1.amazonaws.com/datasets/tox21.csv.gz\"\n",
    "tox_df = pd.read_csv(filepath)\n",
    "print('Finished\\n')\n",
    "\n",
    "# hide the deprecation warnings from CalcMolDescriptors\n",
    "from rdkit import RDLogger\n",
    "RDLogger.DisableLog('rdApp.*')\n",
    "\n",
    "# Choose a target\n",
    "target = \"NR-AR\"\n",
    "\n",
    "# create a new dataframe with only data for the biological target of interest\n",
    "target_tox_df = tox_df.loc[:,[target,\"mol_id\",\"smiles\"]]\n",
    "# remove empty cells\n",
    "target_tox_df = target_tox_df.dropna()\n",
    "# reset index\n",
    "target_tox_df = target_tox_df.reset_index(drop=True)\n",
    "\n",
    "print(f'The total amount of compounds for which labels are available is {len(target_tox_df)}')"
   ]
  },
  {
   "cell_type": "markdown",
   "metadata": {},
   "source": [
    "Notice the data is very imbalanced, which could be a problem when building models:"
   ]
  },
  {
   "cell_type": "code",
   "execution_count": 2,
   "metadata": {},
   "outputs": [
    {
     "name": "stdout",
     "output_type": "stream",
     "text": [
      "The number of toxic compounds is 309.0\n",
      "The number of non-toxic compounds is 6956.0\n",
      "Percentage of toxic compounds is 4.25%\n"
     ]
    },
    {
     "data": {
      "text/plain": [
       "Text(0.5, 1.0, 'NR-AR')"
      ]
     },
     "execution_count": 2,
     "metadata": {},
     "output_type": "execute_result"
    },
    {
     "data": {
      "image/png": "[encoded data removed]",
      "text/plain": [
       "<Figure size 640x480 with 1 Axes>"
      ]
     },
     "metadata": {},
     "output_type": "display_data"
    }
   ],
   "source": [
    "# Calculate the number of toxic and non-toxic compounds\n",
    "toxic = target_tox_df[target].sum()\n",
    "nontoxic = len(target_tox_df) - toxic\n",
    "print(f'The number of toxic compounds is {toxic}')\n",
    "print(f'The number of non-toxic compounds is {nontoxic}')\n",
    "print(f'Percentage of toxic compounds is {toxic/len(target_tox_df)*100:.2f}%')\n",
    "\n",
    "barplt = target_tox_df[target].value_counts().plot.bar(xlabel=\"toxic\",ylabel=\"frequency\",label=f\"{toxic/len(target_tox_df)*100:.2f}% toxic\")\n",
    "plt.legend(frameon=False, fontsize=13)\n",
    "# increase label font size\n",
    "plt.xlabel(\"toxic\", fontsize=14)\n",
    "plt.ylabel(\"frequency\", fontsize=14)\n",
    "# increase label font size\n",
    "plt.xticks(fontsize=11)\n",
    "plt.yticks(fontsize=11)\n",
    "#increase title font size\n",
    "plt.title(target, fontsize=15)\n"
   ]
  },
  {
   "cell_type": "markdown",
   "metadata": {},
   "source": [
    "Next, we determine the molecular features that we want to use to build predictive models on. We read in the smiles and calculate molecular descriptors for each compound using RDKit"
   ]
  },
  {
   "cell_type": "code",
   "execution_count": 3,
   "metadata": {},
   "outputs": [
    {
     "name": "stdout",
     "output_type": "stream",
     "text": [
      "Calculate descriptors...\n",
      "Finished\n"
     ]
    }
   ],
   "source": [
    "# add rdkit mol objects to the dataframe\n",
    "PandasTools.AddMoleculeColumnToFrame(target_tox_df, smilesCol=\"smiles\", molCol='mol_obj')\n",
    "\n",
    "# calculate all descriptors for all entries\n",
    "# convert the rdkit mol object column to a list, to iterate over the items more efficiently\n",
    "mols = target_tox_df.mol_obj.to_list()\n",
    "# calculate the descriptors using a list comprehension\n",
    "# this creates a list of dictionaries, which can be easily converted into a dataframe\n",
    "print('Calculate descriptors...')\n",
    "tox_desc_list = [Descriptors.CalcMolDescriptors(mol) for mol in mols]\n",
    "print('Finished')\n",
    "tox_desc_df = pd.DataFrame(tox_desc_list)\n",
    "# remove columns containing empty cells\n",
    "tox_desc_df = tox_desc_df.dropna(axis=1)\n",
    "# remove constant columns \n",
    "tox_desc_df = tox_desc_df.loc[:,tox_desc_df.apply(pd.Series.nunique) != 1]\n",
    "# record the names of the descriptors from RDKit\n",
    "param = tox_desc_df.columns"
   ]
  },
  {
   "cell_type": "markdown",
   "metadata": {},
   "source": [
    "We calculate the correlation matrix between all the molecular descriptors as well as the target label and sort by those correlating strongest to the label."
   ]
  },
  {
   "cell_type": "code",
   "execution_count": 4,
   "metadata": {},
   "outputs": [
    {
     "name": "stdout",
     "output_type": "stream",
     "text": [
      "                         NR-AR  NumAliphaticCarbocycles  \\\n",
      "NR-AR                    1.000                    0.453   \n",
      "NumAliphaticCarbocycles  0.453                    1.000   \n",
      "NumSaturatedCarbocycles  0.417                    0.919   \n",
      "fr_bicyclic              0.369                    0.622   \n",
      "SMR_VSA4                 0.343                    0.714   \n",
      "\n",
      "                         NumSaturatedCarbocycles  fr_bicyclic  SMR_VSA4  \\\n",
      "NR-AR                                      0.417        0.369     0.343   \n",
      "NumAliphaticCarbocycles                    0.919        0.622     0.714   \n",
      "NumSaturatedCarbocycles                    1.000        0.551     0.717   \n",
      "fr_bicyclic                                0.551        1.000     0.527   \n",
      "SMR_VSA4                                   0.717        0.527     1.000   \n",
      "\n",
      "                           SPS  SlogP_VSA4  fr_ketone  NumAliphaticRings  \\\n",
      "NR-AR                    0.321       0.303      0.296              0.292   \n",
      "NumAliphaticCarbocycles  0.727       0.609      0.460              0.667   \n",
      "NumSaturatedCarbocycles  0.698       0.614      0.353              0.612   \n",
      "fr_bicyclic              0.562       0.441      0.316              0.639   \n",
      "SMR_VSA4                 0.646       0.711      0.315              0.592   \n",
      "\n",
      "                         Chi4n  ...  fr_priamide  fr_piperzine  \\\n",
      "NR-AR                    0.286  ...       -0.002         0.002   \n",
      "NumAliphaticCarbocycles  0.595  ...       -0.021        -0.005   \n",
      "NumSaturatedCarbocycles  0.557  ...       -0.034         0.005   \n",
      "fr_bicyclic              0.637  ...        0.038         0.104   \n",
      "SMR_VSA4                 0.627  ...        0.230        -0.008   \n",
      "\n",
      "                         fr_Ndealkylation1  fr_sulfonamd  SlogP_VSA10  fr_ArN  \\\n",
      "NR-AR                           -1.422e-03        -0.001       -0.001   0.001   \n",
      "NumAliphaticCarbocycles          1.818e-02        -0.040       -0.074  -0.064   \n",
      "NumSaturatedCarbocycles         -7.323e-04        -0.029       -0.056  -0.062   \n",
      "fr_bicyclic                      7.509e-02        -0.023       -0.011  -0.026   \n",
      "SMR_VSA4                         2.804e-02        -0.005       -0.052  -0.049   \n",
      "\n",
      "                         PEOE_VSA5   fr_oxime  PEOE_VSA9    fr_urea  \n",
      "NR-AR                   -9.633e-04  9.402e-04  4.466e-04  2.568e-04  \n",
      "NumAliphaticCarbocycles  4.401e-02  2.901e-03  9.033e-03 -3.201e-02  \n",
      "NumSaturatedCarbocycles  4.827e-02 -1.799e-03  1.726e-02 -2.452e-02  \n",
      "fr_bicyclic              6.166e-02 -1.994e-03  1.508e-01 -4.075e-02  \n",
      "SMR_VSA4                 2.171e-02  7.879e-02  1.365e-01 -1.092e-02  \n",
      "\n",
      "[5 rows x 195 columns]\n"
     ]
    }
   ],
   "source": [
    "# calculate the correlation matrix\n",
    "# create a new dataframe with the descriptors and the label\n",
    "tox_df_new = tox_desc_df.copy()\n",
    "# create a copy of the responce variable columns for the label of choice\n",
    "tox_df_new[target] = target_tox_df[target]\n",
    "tox_corrmat = tox_df_new.corr()\n",
    "tox_corrmat = tox_corrmat.sort_values(by=target, ascending=False, key=abs, axis=0)\n",
    "tox_corrmat = tox_corrmat.sort_values(by=target, ascending=False, key=abs, axis=1)\n",
    "print(tox_corrmat.head(5))\n",
    "#save the correlation matrix\n",
    "tox_corrmat.to_csv('tox_corrmat.csv')"
   ]
  },
  {
   "cell_type": "markdown",
   "metadata": {},
   "source": [
    "From the correlation matrix it is clear that\n",
    "- Many indicators of hydrophobic groups are correlated to the NR-AR label\n",
    "- The molecular features have very strong multicollinearities, evident from the high correlation coefficients of the features to each other."
   ]
  },
  {
   "cell_type": "markdown",
   "metadata": {},
   "source": [
    "We split the data set in Train and Test Data using stratisfied splitting to ensure the minority class (toxic) is well-represented in both sets."
   ]
  },
  {
   "cell_type": "code",
   "execution_count": 7,
   "metadata": {},
   "outputs": [],
   "source": [
    "# Split in Train and Test sets\n",
    "train_ind, test_ind, y_train, y_test = model_selection.train_test_split(target_tox_df.index, target_tox_df[target], test_size=0.2, stratify=target_tox_df[target], random_state=17)\n",
    "X_train = tox_desc_df.loc[train_ind,:].to_numpy()\n",
    "X_test = tox_desc_df.loc[test_ind,:].to_numpy()\n",
    "y_train = y_train.to_numpy()\n",
    "y_test = y_test.to_numpy()\n",
    "\n",
    "# Also record the corresponding train and test smiles and mol_id\n",
    "train_smi = target_tox_df.loc[train_ind,\"smiles\"].to_list()\n",
    "test_smi = target_tox_df.loc[test_ind,\"smiles\"].to_list()\n",
    "train_mol_id = target_tox_df.loc[train_ind,\"mol_id\"].to_list()\n",
    "test_mol_id = target_tox_df.loc[test_ind,\"mol_id\"].to_list()"
   ]
  },
  {
   "cell_type": "markdown",
   "metadata": {},
   "source": [
    "We remove features that\n",
    "- have low variance (after min-max scaling) \n",
    "- AND are weakly correlated to the NR-AR label"
   ]
  },
  {
   "cell_type": "code",
   "execution_count": 8,
   "metadata": {},
   "outputs": [
    {
     "name": "stdout",
     "output_type": "stream",
     "text": [
      "X_train before removing constant columns: (5812, 194)\n",
      "Removed parameters = ['NumRadicalElectrons', 'Ipc', 'Kappa2', 'Kappa3', 'PEOE_VSA13', 'PEOE_VSA14', 'SMR_VSA9', 'SlogP_VSA11', 'VSA_EState1', 'VSA_EState10', 'VSA_EState4', 'VSA_EState5', 'VSA_EState7', 'VSA_EState9', 'NumAliphaticHeterocycles', 'NumSaturatedHeterocycles', 'MolLogP', 'fr_Ar_OH', 'fr_N_O', 'fr_Ndealkylation1', 'fr_SH', 'fr_alkyl_carbamate', 'fr_azide', 'fr_azo', 'fr_barbitur', 'fr_epoxide', 'fr_guanido', 'fr_imide', 'fr_isocyan', 'fr_isothiocyan', 'fr_nitroso', 'fr_oxazole', 'fr_oxime', 'fr_phenol', 'fr_phenol_noOrthoHbond', 'fr_phos_acid', 'fr_priamide', 'fr_tetrazole', 'fr_thiazole', 'fr_thiocyan', 'fr_thiophene']\n",
      "X_train after removing constants columns: (5812, 153)\n"
     ]
    }
   ],
   "source": [
    "from sklearn.preprocessing import MinMaxScaler\n",
    "\n",
    "# apply a min-max range scaler, then calculate the variances of the scaled descriptors on training set\n",
    "scaler_minmax = MinMaxScaler().fit(X_train)\n",
    "df_train_minmax = pd.DataFrame(scaler_minmax.transform(X_train), columns=param)\n",
    "scaled_var = df_train_minmax.var()\n",
    "\n",
    "# get the correlation of the descriptors to the target\n",
    "corr_tox = np.array([tox_corrmat[feat].iloc[0] for feat in param])\n",
    "print(f'X_train before removing constant columns: {X_train.shape}')\n",
    "\n",
    "# set the threshold for the variance\n",
    "variance_threshold = 0.002\n",
    "# check which parameters have a variance higher than the threshold or a correlation to the target higher than 0.1\n",
    "train_var_over_thresh = (scaled_var > variance_threshold) | (abs(corr_tox) > 0.1)\n",
    "# check which parameters have a variance lower than the threshold\n",
    "rem_param = param[~train_var_over_thresh].to_list()\n",
    "print(f'Removed parameters = {rem_param}')\n",
    "\n",
    "# remove the selected columns from the training and test sets\n",
    "X_train = X_train[:,train_var_over_thresh]\n",
    "X_test = X_test[:,train_var_over_thresh]\n",
    "param = param[train_var_over_thresh]\n",
    "param = param.to_list()\n",
    "print(f'X_train after removing constants columns: {X_train.shape}')"
   ]
  },
  {
   "cell_type": "code",
   "execution_count": 9,
   "metadata": {},
   "outputs": [
    {
     "name": "stdout",
     "output_type": "stream",
     "text": [
      "Saving the processed data to NR-AR_processeddata.pkl\n"
     ]
    }
   ],
   "source": [
    "# Save as pickle\n",
    "print(f'Saving the processed data to {target}_processeddata.pkl')\n",
    "pickle_out = open(target+\"_processeddata.pkl\", \"wb\")\n",
    "processeddata_content = [param, train_smi, test_smi, train_mol_id, test_mol_id,  X_train, X_test, y_train, y_test]\n",
    "pickle.dump(processeddata_content, pickle_out)\n",
    "pickle_out.close()"
   ]
  },
  {
   "cell_type": "markdown",
   "metadata": {},
   "source": [
    "In conclusion, we note the following observations which might complicate building predictive models:\n",
    "- The data set is very imbalanced (only 4.25\\% of samples is categorized as toxic)\n",
    "- The molecular features are highly collinear."
   ]
  }
 ],
 "metadata": {
  "kernelspec": {
   "display_name": "ml24",
   "language": "python",
   "name": "python3"
  },
  "language_info": {
   "codemirror_mode": {
    "name": "ipython",
    "version": 3
   },
   "file_extension": ".py",
   "mimetype": "text/x-python",
   "name": "python",
   "nbconvert_exporter": "python",
   "pygments_lexer": "ipython3",
   "version": "3.11.9"
  }
 },
 "nbformat": 4,
 "nbformat_minor": 2
}
